{
 "cells": [
  {
   "cell_type": "markdown",
   "id": "86f91791-bfe2-452e-b4b3-3f1c08179ea1",
   "metadata": {},
   "source": [
    "# Data Science Tools and Ecosystem"
   ]
  },
  {
   "cell_type": "markdown",
   "id": "9b9e7bce-8ef3-4c15-8b46-fe9980d38295",
   "metadata": {},
   "source": [
    "In this notebook, Data Science Tools and Ecosystem are summarized."
   ]
  },
  {
   "cell_type": "markdown",
   "id": "963f5222-6b91-48ce-a4a5-2f62033d9a94",
   "metadata": {},
   "source": [
    "**Objectives**\n",
    "- List popular languages for Data Science\n",
    "- List popular libraries used by data scientists\n",
    "- Create table of popular data science tools"
   ]
  },
  {
   "cell_type": "markdown",
   "id": "6cc37588-2215-432a-8c2b-7487a97e75b8",
   "metadata": {},
   "source": [
    "Some of the popular languages that Data Scientists use are:\n",
    "1. Python\n",
    "2. R\n",
    "3. SQL"
   ]
  },
  {
   "cell_type": "markdown",
   "id": "cd6be6ed-6d3f-4f23-9c5a-d04735122e52",
   "metadata": {},
   "source": [
    "Some of the commonly used libraries used by Data Scientists include:\n",
    "1. NumPy\n",
    "2. Pandas\n",
    "3. Matplotlib"
   ]
  },
  {
   "cell_type": "markdown",
   "id": "6c77240c-c6ab-483d-8a6f-7ee6320c563e",
   "metadata": {},
   "source": [
    "| Data Science Tools |\n",
    "------------------\n",
    "|Jupyter Notebook|\n",
    "|R Studio|\n",
    "|VS Code|"
   ]
  },
  {
   "cell_type": "markdown",
   "id": "37be9c56-6157-42ae-b888-eab5f8425bcc",
   "metadata": {},
   "source": [
    "### Below are a few examples of evaluating arithmetic expressions in Python:\n",
    "- 3 + 4\n",
    "- 2 - 2\n",
    "- 1 * 3"
   ]
  },
  {
   "cell_type": "code",
   "execution_count": 3,
   "id": "5492f099-71ed-43d8-95a2-b220f8b93d74",
   "metadata": {},
   "outputs": [
    {
     "data": {
      "text/plain": [
       "17"
      ]
     },
     "execution_count": 3,
     "metadata": {},
     "output_type": "execute_result"
    }
   ],
   "source": [
    "# This a simple arithmetic expression to mutiply then add integers\n",
    "(3*4)+5"
   ]
  },
  {
   "cell_type": "code",
   "execution_count": 6,
   "id": "677a0910-80ac-4ce7-831d-c1ae9efd6d53",
   "metadata": {},
   "outputs": [
    {
     "name": "stdout",
     "output_type": "stream",
     "text": [
      "3.3333333333333335\n"
     ]
    }
   ],
   "source": [
    "# This will convert 200 minutes to hours by dividing by 60\n",
    "minutes = 200\n",
    "hours = (minutes / 60)\n",
    "print(hours)"
   ]
  },
  {
   "cell_type": "markdown",
   "id": "cffae148-bd4e-45ac-8486-e59ba3255b8c",
   "metadata": {},
   "source": [
    "## Author\n",
    "Abdelaziz Mansour"
   ]
  },
  {
   "cell_type": "code",
   "execution_count": null,
   "id": "382ba548-4e57-498a-99eb-359e77af73bb",
   "metadata": {},
   "outputs": [],
   "source": []
  }
 ],
 "metadata": {
  "kernelspec": {
   "display_name": "anaconda-2024.02-py310",
   "language": "python",
   "name": "conda-env-anaconda-2024.02-py310-py"
  },
  "language_info": {
   "codemirror_mode": {
    "name": "ipython",
    "version": 3
   },
   "file_extension": ".py",
   "mimetype": "text/x-python",
   "name": "python",
   "nbconvert_exporter": "python",
   "pygments_lexer": "ipython3",
   "version": "3.10.14"
  }
 },
 "nbformat": 4,
 "nbformat_minor": 5
}
